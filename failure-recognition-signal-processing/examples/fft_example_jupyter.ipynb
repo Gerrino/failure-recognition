{
 "cells": [
  {
   "cell_type": "code",
   "execution_count": 2,
   "metadata": {},
   "outputs": [],
   "source": [
    "from fft_example import example_prediction\n",
    "import os\n",
    "from pathlib import Path"
   ]
  },
  {
   "cell_type": "code",
   "execution_count": 3,
   "metadata": {},
   "outputs": [
    {
     "name": "stdout",
     "output_type": "stream",
     "text": [
      "c:\\git\\failure_recognition\\failure-recognition-signal-processing\n"
     ]
    },
    {
     "name": "stderr",
     "output_type": "stream",
     "text": [
      "Feature Extraction: 100%|██████████| 30/30 [02:39<00:00,  5.31s/it]\n",
      "Feature Extraction: 100%|██████████| 30/30 [02:28<00:00,  4.94s/it]\n"
     ]
    },
    {
     "name": "stdout",
     "output_type": "stream",
     "text": [
      "update with 150 => 150\n",
      "Shape feature matrix: (157, 153)\n",
      "Eval FeatureState: (148.87226247787476)s Index(['0__abs_energy', '0__mean', '1__abs_energy', '1__mean', '2__abs_energy',\n",
      "       '2__mean', '3__abs_energy', '3__mean', '4__abs_energy', '4__mean',\n",
      "       ...\n",
      "       '5__find_peaks_feature__f_min_50__max_iterations_20__mode_\"distance\"__no_6__num_peaks_16__ts_0.001__x_0_{'prominence': 0.005}',\n",
      "       '5__find_peaks_feature__f_min_50__max_iterations_20__mode_\"distance\"__no_7__num_peaks_16__ts_0.001__x_0_{'prominence': 0.005}',\n",
      "       '5__find_peaks_feature__f_min_50__max_iterations_20__mode_\"distance\"__no_8__num_peaks_16__ts_0.001__x_0_{'prominence': 0.005}',\n",
      "       '5__find_peaks_feature__f_min_50__max_iterations_20__mode_\"distance\"__no_9__num_peaks_16__ts_0.001__x_0_{'prominence': 0.005}',\n",
      "       '5__find_peaks_feature__f_min_50__max_iterations_20__mode_\"distance\"__no_10__num_peaks_16__ts_0.001__x_0_{'prominence': 0.005}',\n",
      "       '5__find_peaks_feature__f_min_50__max_iterations_20__mode_\"distance\"__no_11__num_peaks_16__ts_0.001__x_0_{'prominence': 0.005}',\n",
      "       '5__find_peaks_feature__f_min_50__max_iterations_20__mode_\"distance\"__no_12__num_peaks_16__ts_0.001__x_0_{'prominence': 0.005}',\n",
      "       '5__find_peaks_feature__f_min_50__max_iterations_20__mode_\"distance\"__no_13__num_peaks_16__ts_0.001__x_0_{'prominence': 0.005}',\n",
      "       '5__find_peaks_feature__f_min_50__max_iterations_20__mode_\"distance\"__no_14__num_peaks_16__ts_0.001__x_0_{'prominence': 0.005}',\n",
      "       '5__find_peaks_feature__f_min_50__max_iterations_20__mode_\"distance\"__no_15__num_peaks_16__ts_0.001__x_0_{'prominence': 0.005}'],\n",
      "      dtype='object', length=150)\n",
      "size of windowedTimeSeries 1283226\n",
      "**\n",
      "cost: 0.1819873123421607\n"
     ]
    }
   ],
   "source": [
    "\n",
    "os.chdir(Path(os.getcwd()).parent)\n",
    "print(os.getcwd())\n",
    "container = example_prediction()\n",
    "feature_state = container.feature_state"
   ]
  }
 ],
 "metadata": {
  "kernelspec": {
   "display_name": "Python 3.9.0 ('.venv': venv)",
   "language": "python",
   "name": "python3"
  },
  "language_info": {
   "codemirror_mode": {
    "name": "ipython",
    "version": 3
   },
   "file_extension": ".py",
   "mimetype": "text/x-python",
   "name": "python",
   "nbconvert_exporter": "python",
   "pygments_lexer": "ipython3",
   "version": "3.9.0"
  },
  "orig_nbformat": 4,
  "vscode": {
   "interpreter": {
    "hash": "384120dac837f4a32fdc6b989c248f19c0904e352a8e7dae4d06053b1f537a58"
   }
  }
 },
 "nbformat": 4,
 "nbformat_minor": 2
}
