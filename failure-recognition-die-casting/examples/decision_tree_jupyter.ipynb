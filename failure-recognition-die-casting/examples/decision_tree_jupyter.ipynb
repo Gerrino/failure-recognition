{
 "cells": [
  {
   "cell_type": "code",
   "execution_count": 2,
   "metadata": {},
   "outputs": [
    {
     "name": "stdout",
     "output_type": "stream",
     "text": [
      "c:\\git\\failure_recognition\\failure-recognition-die-casting\n"
     ]
    }
   ],
   "source": [
    "from matplotlib import pyplot as plt\n",
    "import pandas as pd\n",
    "from pathlib import Path\n",
    "import os\n",
    "from failure_recognition.die_casting import PATH_DICT\n",
    "plt.close(\"all\")\n",
    "from sklearn import tree\n",
    "from sklearn.inspection import DecisionBoundaryDisplay\n",
    "import graphviz\n",
    "os.chdir(Path(os.getcwd()).parent)\n",
    "print(os.getcwd())\n",
    "os.environ[\"PATH\"] += os.pathsep + 'C:\\Program Files\\Graphviz\\\\bin'\n",
    "import numpy as np\n"
   ]
  },
  {
   "cell_type": "markdown",
   "metadata": {},
   "source": [
    "Test Decision Tree\n",
    "---"
   ]
  },
  {
   "cell_type": "code",
   "execution_count": null,
   "metadata": {},
   "outputs": [],
   "source": []
  },
  {
   "cell_type": "code",
   "execution_count": null,
   "metadata": {},
   "outputs": [],
   "source": [
    "X = [[1, 0.2], [1, 1], [0,0], [0, 1]]\n",
    "X = np.array(X)\n",
    "feat_labels = [\"feat_a\", \"feat_b\"]\n",
    "class_labels = [\"class_a\", \"class_b\"]\n",
    "Y = np.array([0, 1, 1, 0])\n",
    "clf = tree.DecisionTreeClassifier()\n",
    "clf = clf.fit(X, Y)\n",
    "\n",
    "out = clf.predict([[3., 3.], [0., 0.], [5., 0.], [0., 5.]])\n",
    "out_prob = clf.predict_proba([[3., 3.5], [0.5, 0.], [5.1, 0.], [0., 5.]])\n",
    "tree.plot_tree(clf)"
   ]
  },
  {
   "cell_type": "code",
   "execution_count": null,
   "metadata": {},
   "outputs": [],
   "source": [
    "n_classes = 2\n",
    "plot_colors = \"ryb\"\n",
    "plot_step = 0.02\n",
    "# Plot the decision boundary\n",
    "ax = plt.subplot(2, 3, 0 + 1)\n",
    "plt.tight_layout(h_pad=0.5, w_pad=0.5, pad=2.5)\n",
    "DecisionBoundaryDisplay.from_estimator(\n",
    "    clf,\n",
    "    X,\n",
    "    cmap=plt.cm.RdYlBu,\n",
    "    response_method=\"predict\",\n",
    "    ax=ax,\n",
    "    xlabel=(feat_labels[0]),\n",
    "    ylabel=(feat_labels[1])\n",
    ")\n",
    "\n",
    "for i, color in zip(range(n_classes), plot_colors):\n",
    "    idx = np.where(Y == i)\n",
    "    plt.scatter(\n",
    "        X[idx, 0],\n",
    "        X[idx, 1],\n",
    "        c=color,\n",
    "        label=class_labels[i],\n",
    "        cmap=plt.cm.RdYlBu,\n",
    "        edgecolor=\"black\",\n",
    "        s=15,\n",
    "    )\n",
    "\n",
    "plt.suptitle(\"Decision surface of decision trees trained on pairs of features\")\n",
    "plt.legend(loc=\"lower right\", borderpad=0, handletextpad=0)\n",
    "_ = plt.axis(\"tight\")"
   ]
  },
  {
   "cell_type": "markdown",
   "metadata": {},
   "source": [
    "Test Bue\n",
    "---"
   ]
  },
  {
   "cell_type": "code",
   "execution_count": 16,
   "metadata": {},
   "outputs": [],
   "source": [
    "\n",
    "bue_data = pd.read_csv(PATH_DICT[\"bue\"], decimal=\".\", sep='\\t', header=0)\n",
    "Y_Fp = bue_data.iloc[:, -8:-7]\n",
    "# Y = bue_data.iloc[:, -7:]\n",
    "Yp = Y_Fp\n",
    "Xp_all = bue_data.iloc[:, :-8]\n",
    "for pairidx, pair in enumerate([[0, 1], [0, 2], [0, 3], [1, 2], [1, 3], [2, 3]]):\n",
    "    Xp = Xp_all.iloc[:, pair]\n",
    "    X = np.array(Xp)\n",
    "    Y = np.array(Yp)\n",
    "    Y_labels = pd.array([\"Fehler_0\", \"Fehler_1\"])\n",
    "    clf = tree.DecisionTreeClassifier()\n",
    "    clf = clf.fit(X, Y)\n",
    "    fig=plt.figure(figsize=(12,8), dpi= 250, facecolor='w', edgecolor='k')\n",
    "    n_classes = 2\n",
    "    plot_colors = \"ryb\"\n",
    "    plot_step = 0.02\n",
    "    # Plot the decision boundary\n",
    "    ax = plt.subplot(2, 3, 0 + 1)\n",
    "    plt.tight_layout(h_pad=0.5, w_pad=0.5, pad=2.5)\n",
    "    DecisionBoundaryDisplay.from_estimator(\n",
    "        clf,\n",
    "        X,\n",
    "        cmap=plt.cm.RdYlBu,\n",
    "        response_method=\"predict\",\n",
    "        ax=ax,\n",
    "        xlabel=(Xp.columns[0]),\n",
    "        ylabel=(Xp.columns[1])\n",
    "    )\n",
    "\n",
    "    for i, color in zip(range(n_classes), plot_colors):\n",
    "        idx = np.where(Y == i)\n",
    "        plt.scatter(\n",
    "            X[idx, 0],\n",
    "            X[idx, 1],\n",
    "            c=color,\n",
    "            label=Y_labels[i],\n",
    "            cmap=plt.cm.RdYlBu,\n",
    "            edgecolor=\"black\",\n",
    "            s=15,\n",
    "        )\n",
    "\n",
    "    plt.suptitle(\"Decision surface of decision trees trained on pairs of features\")\n",
    "    plt.legend(loc=\"lower left\", borderpad=0, handletextpad=0)\n",
    "    _ = plt.axis(\"tight\")\n",
    "    pass"
   ]
  },
  {
   "cell_type": "code",
   "execution_count": null,
   "metadata": {},
   "outputs": [],
   "source": []
  }
 ],
 "metadata": {
  "kernelspec": {
   "display_name": "Python 3.10.2 ('.venv': venv)",
   "language": "python",
   "name": "python3"
  },
  "language_info": {
   "codemirror_mode": {
    "name": "ipython",
    "version": 3
   },
   "file_extension": ".py",
   "mimetype": "text/x-python",
   "name": "python",
   "nbconvert_exporter": "python",
   "pygments_lexer": "ipython3",
   "version": "3.10.2"
  },
  "orig_nbformat": 4,
  "vscode": {
   "interpreter": {
    "hash": "80e005ef7fbb6f01f954bb76de646f748f66515cf43b204c4283de544829e666"
   }
  }
 },
 "nbformat": 4,
 "nbformat_minor": 2
}
