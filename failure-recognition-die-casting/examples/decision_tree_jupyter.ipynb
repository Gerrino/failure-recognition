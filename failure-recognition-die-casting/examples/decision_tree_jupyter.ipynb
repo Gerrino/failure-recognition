{
 "cells": [
  {
   "cell_type": "code",
   "execution_count": 1,
   "metadata": {},
   "outputs": [
    {
     "name": "stdout",
     "output_type": "stream",
     "text": [
      "c:\\git\\failure_recognition\\failure-recognition-die-casting\n"
     ]
    }
   ],
   "source": [
    "from matplotlib import pyplot as plt\n",
    "import pandas as pd\n",
    "from pathlib import Path\n",
    "import os\n",
    "from failure_recognition.die_casting import PATH_DICT\n",
    "plt.close(\"all\")\n",
    "from sklearn import tree\n",
    "from sklearn.inspection import DecisionBoundaryDisplay\n",
    "os.environ[\"PATH\"] += os.pathsep + 'C:\\Program Files\\Graphviz\\\\bin'\n",
    "import numpy as np\n",
    "from itertools import permutations\n"
   ]
  },
  {
   "cell_type": "code",
   "execution_count": null,
   "metadata": {},
   "outputs": [],
   "source": [
    "os.chdir(\"c:/git/failure_recognition/failure-recognition-die-casting\")\n",
    "print(os.getcwd())"
   ]
  },
  {
   "cell_type": "markdown",
   "metadata": {},
   "source": [
    "Test Decision Tree\n",
    "---"
   ]
  },
  {
   "cell_type": "code",
   "execution_count": null,
   "metadata": {},
   "outputs": [],
   "source": []
  },
  {
   "cell_type": "code",
   "execution_count": 22,
   "metadata": {},
   "outputs": [
    {
     "data": {
      "text/plain": [
       "[Text(0.3333333333333333, 0.875, 'X[1] <= 0.1\\ngini = 0.5\\nsamples = 4\\nvalue = [2, 2]'),\n",
       " Text(0.16666666666666666, 0.625, 'gini = 0.0\\nsamples = 1\\nvalue = [0, 1]'),\n",
       " Text(0.5, 0.625, 'X[0] <= 0.5\\ngini = 0.444\\nsamples = 3\\nvalue = [2, 1]'),\n",
       " Text(0.3333333333333333, 0.375, 'gini = 0.0\\nsamples = 1\\nvalue = [1, 0]'),\n",
       " Text(0.6666666666666666, 0.375, 'X[1] <= 0.6\\ngini = 0.5\\nsamples = 2\\nvalue = [1, 1]'),\n",
       " Text(0.5, 0.125, 'gini = 0.0\\nsamples = 1\\nvalue = [1, 0]'),\n",
       " Text(0.8333333333333334, 0.125, 'gini = 0.0\\nsamples = 1\\nvalue = [0, 1]')]"
      ]
     },
     "execution_count": 22,
     "metadata": {},
     "output_type": "execute_result"
    },
    {
     "data": {
      "image/png": "[encoded data removed]",
      "text/plain": [
       "<Figure size 432x288 with 1 Axes>"
      ]
     },
     "metadata": {
      "needs_background": "light"
     },
     "output_type": "display_data"
    }
   ],
   "source": [
    "X = [[1, 0.2], [1, 1], [0,0], [0, 1]]\n",
    "X = np.array(X)\n",
    "feat_labels = [\"feat_a\", \"feat_b\"]\n",
    "class_labels = [\"class_a\", \"class_b\"]\n",
    "Y = np.array([0, 1, 1, 0])\n",
    "clf = tree.DecisionTreeClassifier()\n",
    "clf = clf.fit(X, Y)\n",
    "\n",
    "out = clf.predict([[3., 3.], [0., 0.], [5., 0.], [0., 5.]])\n",
    "out_prob = clf.predict_proba([[3., 3.5], [0.5, 0.], [5.1, 0.], [0., 5.]])\n",
    "tree.plot_tree(clf)"
   ]
  },
  {
   "cell_type": "code",
   "execution_count": 31,
   "metadata": {},
   "outputs": [
    {
     "data": {
      "image/png": "[encoded data removed]",
      "text/plain": [
       "<Figure size 432x288 with 1 Axes>"
      ]
     },
     "metadata": {
      "needs_background": "light"
     },
     "output_type": "display_data"
    }
   ],
   "source": [
    "n_classes = 2\n",
    "plot_colors = \"ryb\"\n",
    "plot_step = 0.02\n",
    "# Plot the decision boundary\n",
    "ax = plt.subplot(2, 3, 0 + 1)\n",
    "plt.tight_layout(h_pad=0.5, w_pad=0.5, pad=2.5)\n",
    "DecisionBoundaryDisplay.from_estimator(\n",
    "    clf,\n",
    "    X,\n",
    "    cmap=plt.cm.RdYlBu,\n",
    "    response_method=\"predict\",\n",
    "    ax=ax,\n",
    "    xlabel=(feat_labels[0]),\n",
    "    ylabel=(feat_labels[1])\n",
    ")\n",
    "\n",
    "for i, color in zip(range(n_classes), plot_colors):\n",
    "    idx = np.where(Y == i)\n",
    "    plt.scatter(\n",
    "        X[idx, 0],\n",
    "        X[idx, 1],\n",
    "        c=color,\n",
    "        label=class_labels[i],\n",
    "        cmap=plt.cm.RdYlBu,\n",
    "        edgecolor=\"black\",\n",
    "        s=15,\n",
    "    )\n",
    "\n",
    "plt.suptitle(\"Decision surface of decision trees trained on pairs of features\")\n",
    "plt.legend(loc=\"lower right\", borderpad=0, handletextpad=0)\n",
    "_ = plt.axis(\"tight\")"
   ]
  },
  {
   "cell_type": "markdown",
   "metadata": {},
   "source": [
    "Test Bue\n",
    "---"
   ]
  },
  {
   "cell_type": "code",
   "execution_count": 2,
   "metadata": {},
   "outputs": [],
   "source": [
    "\n",
    "bue_data = pd.read_csv(PATH_DICT[\"bue\"], decimal=\".\", sep='\\t', header=0)\n",
    "error_any = bue_data.iloc[:, -8:-7]\n",
    "error_individual = bue_data.iloc[:, -7:]\n",
    "Yp = Y_Fp\n",
    "Xp_all = bue_data.iloc[:, :-8]\n",
    "perm = permutations(range(Xp_all.shape[1]))\n",
    "perm_2 = perm.concatenate(perm[-1:-1])\n",
    "\n",
    "Xp = Xp_all.iloc[:, pair]\n",
    "X = np.array(Xp)\n",
    "Y = np.array(Yp)\n",
    "Y_labels = pd.array([\"Fehler_0\", \"Fehler_1\"])\n",
    "clf = tree.DecisionTreeClassifier(max_depth=2)\n",
    "clf = clf.fit(X, Y)\n",
    "fig=plt.figure(figsize=(12,8), dpi= 250, facecolor='w', edgecolor='k')\n",
    "n_classes = 2\n"
   ]
  },
  {
   "cell_type": "code",
   "execution_count": 6,
   "metadata": {},
   "outputs": [],
   "source": [
    "\n",
    "\n",
    "#out = clf.predict([[3., 3.], [0., 0.], [5., 0.], [0., 5.]])\n",
    "#out_prob = clf.predict_proba([[3., 3.5], [0.5, 0.], [5.1, 0.], [0., 5.]])\n",
    "#tree.plot_tree(clf)"
   ]
  },
  {
   "cell_type": "code",
   "execution_count": null,
   "metadata": {},
   "outputs": [],
   "source": []
  }
 ],
 "metadata": {
  "kernelspec": {
   "display_name": "Python 3.10.2 ('.venv': venv)",
   "language": "python",
   "name": "python3"
  },
  "language_info": {
   "codemirror_mode": {
    "name": "ipython",
    "version": 3
   },
   "file_extension": ".py",
   "mimetype": "text/x-python",
   "name": "python",
   "nbconvert_exporter": "python",
   "pygments_lexer": "ipython3",
   "version": "3.10.2"
  },
  "orig_nbformat": 4,
  "vscode": {
   "interpreter": {
    "hash": "80e005ef7fbb6f01f954bb76de646f748f66515cf43b204c4283de544829e666"
   }
  }
 },
 "nbformat": 4,
 "nbformat_minor": 2
}
